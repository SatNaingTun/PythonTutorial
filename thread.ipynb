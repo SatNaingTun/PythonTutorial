{
 "cells": [
  {
   "cell_type": "code",
   "execution_count": 1,
   "id": "08fcb19c-97ee-4c34-9680-2c88203bcda0",
   "metadata": {},
   "outputs": [
    {
     "name": "stdout",
     "output_type": "stream",
     "text": [
      "Thread Thread-0 incremented counter to 10000\n",
      "Thread Thread-1 incremented counter to 20000\n",
      "Thread Thread-2 incremented counter to 30000\n",
      "Final value of shared counter: 30000\n"
     ]
    }
   ],
   "source": [
    "import threading\n",
    "import time\n",
    "shared_counter = 0\n",
    "# Mutex\n",
    "mutex = threading.Lock()\n",
    "# Function that will be executed by multiple threads\n",
    "def increment_counter():\n",
    "    global shared_counter\n",
    "    # Critical section: access and modify the shared counter\n",
    "    mutex.acquire()\n",
    "    try:\n",
    "    # for i in range(10000):\n",
    "        shared_counter += 1\n",
    "        print(f\"Thread {threading.current_thread().name} incremented counter to {shared_counter}\")\n",
    "    finally:\n",
    "        mutex.release()\n",
    "# Create multiple threads\n",
    "threads = []\n",
    "for i in range(3):\n",
    "    thread = threading.Thread(target=increment_counter, name=f\"Thread-{i}\")\n",
    "    threads.append(thread)\n",
    "# Start the threads\n",
    "for thread in threads:\n",
    "    thread.start()\n",
    "# Wait for all threads to finish\n",
    "for thread in threads:\n",
    "    thread.join()\n",
    "print(\"Final value of shared counter:\", shared_counter) \n"
   ]
  },
  {
   "cell_type": "code",
   "execution_count": null,
   "id": "a971d6c8-590a-4388-b223-c0ae3d02434c",
   "metadata": {},
   "outputs": [],
   "source": []
  }
 ],
 "metadata": {
  "kernelspec": {
   "display_name": "Python 3",
   "language": "python",
   "name": "python3"
  },
  "language_info": {
   "codemirror_mode": {
    "name": "ipython",
    "version": 3
   },
   "file_extension": ".py",
   "mimetype": "text/x-python",
   "name": "python",
   "nbconvert_exporter": "python",
   "pygments_lexer": "ipython3",
   "version": "3.12.5"
  }
 },
 "nbformat": 4,
 "nbformat_minor": 5
}
