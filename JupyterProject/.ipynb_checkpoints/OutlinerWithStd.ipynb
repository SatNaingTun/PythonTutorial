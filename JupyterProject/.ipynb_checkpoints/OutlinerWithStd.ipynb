{
 "cells": [
  {
   "cell_type": "code",
   "execution_count": 2,
   "metadata": {},
   "outputs": [],
   "source": [
    "import pandas as pd\n",
    "import numpy as np"
   ]
  },
  {
   "cell_type": "code",
   "execution_count": 3,
   "metadata": {},
   "outputs": [
    {
     "data": {
      "text/plain": [
       "[4.5]"
      ]
     },
     "execution_count": 3,
     "metadata": {},
     "output_type": "execute_result"
    }
   ],
   "source": [
    "x=pd.Series([2.1,2.3,4.5,2.2,2.5])\n",
    "mean=np.mean(x)\n",
    "std=np.std(x)\n",
    "outliner=[]\n",
    "for item in x:\n",
    "    if(item<mean-std)or(item>mean+std):\n",
    "     outliner.append(item)\n",
    "     \n",
    "outliner"
   ]
  },
  {
   "cell_type": "code",
   "execution_count": 10,
   "metadata": {},
   "outputs": [
    {
     "data": {
      "text/plain": [
       "0    0.441104\n",
       "1    0.422941\n",
       "2    0.404778\n",
       "3    0.350288\n",
       "4    0.332125\n",
       "5    0.313962\n",
       "6    2.265198\n",
       "dtype: float64"
      ]
     },
     "execution_count": 10,
     "metadata": {},
     "output_type": "execute_result"
    }
   ],
   "source": [
    "y=pd.Series([1,2,3,6,7,8,150])\n",
    "mean2=y.mean()\n",
    "std2=y.std()\n",
    "zscore=abs((y-mean2)/std2)\n",
    "zscore"
   ]
  },
  {
   "cell_type": "code",
   "execution_count": 13,
   "metadata": {},
   "outputs": [
    {
     "data": {
      "text/plain": [
       "0    1\n",
       "1    2\n",
       "2    3\n",
       "3    6\n",
       "4    7\n",
       "5    8\n",
       "dtype: int64"
      ]
     },
     "execution_count": 13,
     "metadata": {},
     "output_type": "execute_result"
    }
   ],
   "source": [
    "outliner_removed=y[zscore<=1.5]\n",
    "outliner_removed"
   ]
  },
  {
   "cell_type": "code",
   "execution_count": 14,
   "metadata": {},
   "outputs": [],
   "source": [
    "median=np.median(y)\n",
    "y[zscore>1.5]=median"
   ]
  },
  {
   "cell_type": "code",
   "execution_count": null,
   "metadata": {},
   "outputs": [],
   "source": []
  }
 ],
 "metadata": {
  "kernelspec": {
   "display_name": "Python 3.7.4rc1 64-bit",
   "language": "python",
   "name": "python3"
  },
  "language_info": {
   "codemirror_mode": {
    "name": "ipython",
    "version": 3
   },
   "file_extension": ".py",
   "mimetype": "text/x-python",
   "name": "python",
   "nbconvert_exporter": "python",
   "pygments_lexer": "ipython3",
   "version": "3.7.4"
  },
  "orig_nbformat": 4,
  "vscode": {
   "interpreter": {
    "hash": "036fc12313084de368ee24a1eebbbee3e06830e7562167a4fc1b3eaecba406f4"
   }
  }
 },
 "nbformat": 4,
 "nbformat_minor": 2
}
