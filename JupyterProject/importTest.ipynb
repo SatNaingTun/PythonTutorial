{
 "cells": [
  {
   "cell_type": "code",
   "execution_count": 3,
   "id": "1751f86c",
   "metadata": {},
   "outputs": [],
   "source": [
    "import pandas as pd\n",
    "import numpy as np\n",
    "import matplotlib.pyplot as plt\n",
    "import seaborn as sns"
   ]
  }
 ],
 "metadata": {
  "kernelspec": {
   "display_name": "Python 3.7.4rc1 64-bit",
   "language": "python",
   "name": "python3"
  },
  "language_info": {
   "codemirror_mode": {
    "name": "ipython",
    "version": 3
   },
   "file_extension": ".py",
   "mimetype": "text/x-python",
   "name": "python",
   "nbconvert_exporter": "python",
   "pygments_lexer": "ipython3",
   "version": "3.7.4"
  },
  "vscode": {
   "interpreter": {
    "hash": "036fc12313084de368ee24a1eebbbee3e06830e7562167a4fc1b3eaecba406f4"
   }
  }
 },
 "nbformat": 4,
 "nbformat_minor": 5
}
