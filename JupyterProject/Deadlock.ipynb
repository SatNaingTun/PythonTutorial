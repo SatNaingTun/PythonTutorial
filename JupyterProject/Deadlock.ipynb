{
 "cells": [
  {
   "cell_type": "code",
   "execution_count": null,
   "id": "2927c92a-4939-4703-9649-7d2657361dbd",
   "metadata": {},
   "outputs": [
    {
     "name": "stdout",
     "output_type": "stream",
     "text": [
      "Task 1: Trying to acquire lock1...\n",
      "Task 1: Acquired lock1\n",
      "Task 2: Trying to acquire lock2...\n",
      "Task 2: Acquired lock2\n",
      "Task 1: Trying to acquire lock2...\n",
      "Task 2: Trying to acquire lock1...\n"
     ]
    }
   ],
   "source": [
    "import threading\n",
    "import time\n",
    "\n",
    "# Initialize two locks\n",
    "lock1 = threading.Lock()\n",
    "lock2 = threading.Lock()\n",
    "\n",
    "def task1():\n",
    "    print(\"Task 1: Trying to acquire lock1...\")\n",
    "    lock1.acquire()\n",
    "    print(\"Task 1: Acquired lock1\")\n",
    "    time.sleep(1)\n",
    "\n",
    "    print(\"Task 1: Trying to acquire lock2...\")\n",
    "    lock2.acquire()\n",
    "    print(\"Task 1: Acquired lock2\")\n",
    "\n",
    "    # Release the locks\n",
    "    lock2.release()\n",
    "    lock1.release()\n",
    "    print(\"Task 1: Released lock1 and lock2\")\n",
    "\n",
    "def task2():\n",
    "    print(\"Task 2: Trying to acquire lock2...\")\n",
    "    lock2.acquire()\n",
    "    print(\"Task 2: Acquired lock2\")\n",
    "    time.sleep(1)\n",
    "\n",
    "    print(\"Task 2: Trying to acquire lock1...\")\n",
    "    lock1.acquire()\n",
    "    print(\"Task 2: Acquired lock1\")\n",
    "\n",
    "    # Release the locks\n",
    "    lock1.release()\n",
    "    lock2.release()\n",
    "    print(\"Task 2: Released lock2 and lock1\")\n",
    "\n",
    "# Create threads\n",
    "thread1 = threading.Thread(target=task1)\n",
    "thread2 = threading.Thread(target=task2)\n",
    "\n",
    "# Start threads\n",
    "thread1.start()\n",
    "thread2.start()\n",
    "\n",
    "# Wait for both threads to finish\n",
    "thread1.join()\n",
    "thread2.join()\n"
   ]
  },
  {
   "cell_type": "code",
   "execution_count": null,
   "id": "211280b7-6190-4ee9-aad8-0cb94ee30535",
   "metadata": {},
   "outputs": [],
   "source": []
  }
 ],
 "metadata": {
  "kernelspec": {
   "display_name": "Python 3 (ipykernel)",
   "language": "python",
   "name": "python3"
  },
  "language_info": {
   "codemirror_mode": {
    "name": "ipython",
    "version": 3
   },
   "file_extension": ".py",
   "mimetype": "text/x-python",
   "name": "python",
   "nbconvert_exporter": "python",
   "pygments_lexer": "ipython3",
   "version": "3.12.4"
  }
 },
 "nbformat": 4,
 "nbformat_minor": 5
}
