{
 "cells": [
  {
   "cell_type": "code",
   "execution_count": 1,
   "metadata": {},
   "outputs": [],
   "source": [
    "import cv2\n",
    "import imutils\n",
    "import pytesseract"
   ]
  },
  {
   "cell_type": "code",
   "execution_count": 2,
   "metadata": {},
   "outputs": [],
   "source": [
    "image= cv2.imread(\"Images/NOSE01178.jpg\")"
   ]
  },
  {
   "cell_type": "code",
   "execution_count": 3,
   "metadata": {},
   "outputs": [
    {
     "data": {
      "text/plain": [
       "-1"
      ]
     },
     "execution_count": 3,
     "metadata": {},
     "output_type": "execute_result"
    }
   ],
   "source": [
    "image=imutils.resize(image,width=300)\n",
    "cv2.imshow(\"Orignal Image\",image)\n",
    "cv2.waitKey(0)"
   ]
  },
  {
   "cell_type": "code",
   "execution_count": 4,
   "metadata": {},
   "outputs": [
    {
     "data": {
      "text/plain": [
       "-1"
      ]
     },
     "execution_count": 4,
     "metadata": {},
     "output_type": "execute_result"
    }
   ],
   "source": [
    "gray_image=cv2.cvtColor(image,cv2.COLOR_BGR2GRAY)\n",
    "cv2.imshow(\"grayed image\",gray_image)\n",
    "cv2.waitKey(0)"
   ]
  },
  {
   "cell_type": "code",
   "execution_count": 5,
   "metadata": {},
   "outputs": [
    {
     "data": {
      "text/plain": [
       "-1"
      ]
     },
     "execution_count": 5,
     "metadata": {},
     "output_type": "execute_result"
    }
   ],
   "source": [
    "gray_image=cv2.bilateralFilter(gray_image,11,17,17)\n",
    "cv2.imshow(\"smoothened image\",gray_image)\n",
    "cv2.waitKey(0)"
   ]
  },
  {
   "cell_type": "code",
   "execution_count": 6,
   "metadata": {},
   "outputs": [
    {
     "data": {
      "text/plain": [
       "-1"
      ]
     },
     "execution_count": 6,
     "metadata": {},
     "output_type": "execute_result"
    }
   ],
   "source": [
    "edged=cv2.Canny(gray_image,30,200)\n",
    "cv2.imshow(\"edged image\",edged)\n",
    "cv2.waitKey(0)"
   ]
  },
  {
   "cell_type": "code",
   "execution_count": 7,
   "metadata": {},
   "outputs": [],
   "source": [
    "cnts, new=cv2.findContours(edged.copy(),cv2.RETR_LIST,cv2.CHAIN_APPROX_SIMPLE)"
   ]
  },
  {
   "cell_type": "code",
   "execution_count": 8,
   "metadata": {},
   "outputs": [
    {
     "data": {
      "text/plain": [
       "array([[[ 73,  73,  73],\n",
       "        [ 68,  68,  68],\n",
       "        [ 68,  68,  68],\n",
       "        ...,\n",
       "        [ 99,  99,  99],\n",
       "        [ 98,  98,  98],\n",
       "        [ 92,  92,  92]],\n",
       "\n",
       "       [[ 68,  68,  68],\n",
       "        [ 70,  70,  70],\n",
       "        [ 69,  69,  69],\n",
       "        ...,\n",
       "        [ 95,  95,  95],\n",
       "        [ 99,  99,  99],\n",
       "        [ 95,  95,  95]],\n",
       "\n",
       "       [[ 65,  65,  65],\n",
       "        [ 69,  69,  69],\n",
       "        [ 67,  67,  67],\n",
       "        ...,\n",
       "        [ 89,  89,  89],\n",
       "        [ 93,  93,  93],\n",
       "        [ 96,  96,  96]],\n",
       "\n",
       "       ...,\n",
       "\n",
       "       [[189, 189, 189],\n",
       "        [189, 189, 189],\n",
       "        [189, 189, 189],\n",
       "        ...,\n",
       "        [ 24,  24,  24],\n",
       "        [ 25,  25,  25],\n",
       "        [ 31,  31,  31]],\n",
       "\n",
       "       [[189, 189, 189],\n",
       "        [189, 189, 189],\n",
       "        [189, 189, 189],\n",
       "        ...,\n",
       "        [ 21,  21,  21],\n",
       "        [ 23,  23,  23],\n",
       "        [ 25,  25,  25]],\n",
       "\n",
       "       [[189, 189, 189],\n",
       "        [189, 189, 189],\n",
       "        [189, 189, 189],\n",
       "        ...,\n",
       "        [ 10,  10,  10],\n",
       "        [ 16,  16,  16],\n",
       "        [ 14,  14,  14]]], dtype=uint8)"
      ]
     },
     "execution_count": 8,
     "metadata": {},
     "output_type": "execute_result"
    }
   ],
   "source": [
    "image1=image.copy()\n",
    "cv2.drawContours(image1,cnts,-1,(0,255,0),3)"
   ]
  },
  {
   "cell_type": "code",
   "execution_count": 9,
   "metadata": {},
   "outputs": [
    {
     "data": {
      "text/plain": [
       "-1"
      ]
     },
     "execution_count": 9,
     "metadata": {},
     "output_type": "execute_result"
    }
   ],
   "source": [
    "cv2.imshow(\"contours\",image1)\n",
    "cv2.waitKey(0)"
   ]
  },
  {
   "cell_type": "code",
   "execution_count": 13,
   "metadata": {},
   "outputs": [
    {
     "data": {
      "text/plain": [
       "-1"
      ]
     },
     "execution_count": 13,
     "metadata": {},
     "output_type": "execute_result"
    }
   ],
   "source": [
    "cnts=sorted(cnts,key=cv2.contourArea,reverse=True)[:30]\n",
    "screenCnt=None\n",
    "image2=image.copy()\n",
    "cv2.drawContours(image2,cnts,-1,(0,255,0),3)\n",
    "cv2.imshow(\"Top 30 contour\",image2)\n",
    "cv2.waitKey(0)"
   ]
  },
  {
   "cell_type": "code",
   "execution_count": 25,
   "metadata": {},
   "outputs": [],
   "source": [
    "i=7\n",
    "for c in cnts:\n",
    "    perimeter=cv2.arcLength(c,True)\n",
    "    approx=cv2.approxPolyDP(c,0.018*perimeter,True)\n",
    "    if len(approx)==4:\n",
    "        screenCnt=approx\n",
    "        x,y,w,h=cv2.boundRect(c)\n",
    "        new_img=image[y:y+h,x:x+w]\n",
    "        cv2.imwrite('./'+str(i)+'.png',new_img)\n",
    "        i+=1\n",
    "        break"
   ]
  },
  {
   "cell_type": "code",
   "execution_count": 21,
   "metadata": {},
   "outputs": [
    {
     "data": {
      "text/plain": [
       "-1"
      ]
     },
     "execution_count": 21,
     "metadata": {},
     "output_type": "execute_result"
    }
   ],
   "source": [
    "cv2.drawContours(image,[screenCnt],-1,(0,255,0),3)\n",
    "cv2.imshow(\"Image with dectected License Plate\",image)\n",
    "cv2.waitKey(0)"
   ]
  },
  {
   "cell_type": "code",
   "execution_count": 26,
   "metadata": {},
   "outputs": [
    {
     "ename": "error",
     "evalue": "OpenCV(4.10.0) D:\\a\\opencv-python\\opencv-python\\opencv\\modules\\highgui\\src\\window.cpp:973: error: (-215:Assertion failed) size.width>0 && size.height>0 in function 'cv::imshow'\n",
     "output_type": "error",
     "traceback": [
      "\u001b[1;31m---------------------------------------------------------------------------\u001b[0m",
      "\u001b[1;31merror\u001b[0m                                     Traceback (most recent call last)",
      "Cell \u001b[1;32mIn[26], line 2\u001b[0m\n\u001b[0;32m      1\u001b[0m Cropped_loc\u001b[38;5;241m=\u001b[39m\u001b[38;5;124m'\u001b[39m\u001b[38;5;124m./7.png\u001b[39m\u001b[38;5;124m'\u001b[39m\n\u001b[1;32m----> 2\u001b[0m \u001b[43mcv2\u001b[49m\u001b[38;5;241;43m.\u001b[39;49m\u001b[43mimshow\u001b[49m\u001b[43m(\u001b[49m\u001b[38;5;124;43m\"\u001b[39;49m\u001b[38;5;124;43mcropped\u001b[39;49m\u001b[38;5;124;43m\"\u001b[39;49m\u001b[43m,\u001b[49m\u001b[43mcv2\u001b[49m\u001b[38;5;241;43m.\u001b[39;49m\u001b[43mimread\u001b[49m\u001b[43m(\u001b[49m\u001b[43mCropped_loc\u001b[49m\u001b[43m)\u001b[49m\u001b[43m)\u001b[49m\n\u001b[0;32m      3\u001b[0m plate\u001b[38;5;241m=\u001b[39mpytesseract\u001b[38;5;241m.\u001b[39mimage_to_string(Cropped_loc,lang\u001b[38;5;241m=\u001b[39m\u001b[38;5;124m'\u001b[39m\u001b[38;5;124meng\u001b[39m\u001b[38;5;124m'\u001b[39m)\n\u001b[0;32m      4\u001b[0m \u001b[38;5;28mprint\u001b[39m(\u001b[38;5;124m\"\u001b[39m\u001b[38;5;124mNumber plate is\u001b[39m\u001b[38;5;124m\"\u001b[39m,plate)\n",
      "\u001b[1;31merror\u001b[0m: OpenCV(4.10.0) D:\\a\\opencv-python\\opencv-python\\opencv\\modules\\highgui\\src\\window.cpp:973: error: (-215:Assertion failed) size.width>0 && size.height>0 in function 'cv::imshow'\n"
     ]
    }
   ],
   "source": [
    "Cropped_loc='./7.png'\n",
    "cv2.imshow(\"cropped\",cv2.imread(Cropped_loc))\n",
    "plate=pytesseract.image_to_string(Cropped_loc,lang='eng')\n",
    "print(\"Number plate is\",plate)\n",
    "cv2.waitKey(0)\n",
    "cv2.destroyAllWindows()"
   ]
  }
 ],
 "metadata": {
  "kernelspec": {
   "display_name": "Python 3",
   "language": "python",
   "name": "python3"
  },
  "language_info": {
   "codemirror_mode": {
    "name": "ipython",
    "version": 3
   },
   "file_extension": ".py",
   "mimetype": "text/x-python",
   "name": "python",
   "nbconvert_exporter": "python",
   "pygments_lexer": "ipython3",
   "version": "3.12.5"
  }
 },
 "nbformat": 4,
 "nbformat_minor": 2
}
